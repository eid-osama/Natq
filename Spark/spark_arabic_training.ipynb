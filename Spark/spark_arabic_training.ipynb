{
 "cells": [
  {
   "cell_type": "markdown",
   "metadata": {},
   "source": [
    "# connect drive"
   ]
  },
  {
   "cell_type": "code",
   "execution_count": null,
   "metadata": {
    "colab": {
     "base_uri": "https://localhost:8080/"
    },
    "collapsed": true,
    "execution": {
     "iopub.execute_input": "2025-06-11T15:44:08.128126Z",
     "iopub.status.busy": "2025-06-11T15:44:08.127632Z",
     "iopub.status.idle": "2025-06-11T15:44:08.216654Z",
     "shell.execute_reply": "2025-06-11T15:44:08.215643Z",
     "shell.execute_reply.started": "2025-06-11T15:44:08.128103Z"
    },
    "id": "uBN0wSrIpp8C",
    "jupyter": {
     "outputs_hidden": true
    },
    "outputId": "e242b714-3dc3-465e-e29f-8a1807e8be4c",
    "trusted": true
   },
   "outputs": [],
   "source": [
    "from google.colab import drive\n",
    "drive.mount('/content/drive')"
   ]
  },
  {
   "cell_type": "markdown",
   "metadata": {},
   "source": [
    "# modify xolotl conf file"
   ]
  },
  {
   "cell_type": "code",
   "execution_count": 5,
   "metadata": {
    "execution": {
     "iopub.execute_input": "2025-06-12T13:25:36.479775Z",
     "iopub.status.busy": "2025-06-12T13:25:36.479184Z",
     "iopub.status.idle": "2025-06-12T13:25:36.486694Z",
     "shell.execute_reply": "2025-06-12T13:25:36.485761Z",
     "shell.execute_reply.started": "2025-06-12T13:25:36.479744Z"
    },
    "trusted": true
   },
   "outputs": [
    {
     "name": "stdout",
     "output_type": "stream",
     "text": [
      "Overwriting /kaggle/working/Spark-TTS-finetune_clar/config_axolotl/full_finetune.yml\n"
     ]
    }
   ],
   "source": [
    "%%writefile /kaggle/working/Spark-TTS-finetune_clar/config_axolotl/full_finetune.yml\n",
    "base_model: pretrained_models/Spark-TTS-0.5B/LLM\n",
    "# Automatically upload checkpoint and final model to HF\n",
    "\n",
    "#hub_model_id: Alawy21/spark-tts-finetuned  # Replace with your HF username\n",
    "#hub_strategy: \"checkpoint\"                        # Upload strategy: \"checkpoint\", \"end\", \"every_save\"\n",
    "#hub_token: null                                   # HF token (set via HF_TOKEN env var or login)\n",
    "#hub_private_repo: true                           # Make repo public (true for private)\n",
    "#push_dataset_to_hub: \"false\"                     # Fixed: Changed from false to \"false\"\n",
    "#hf_use_auth_token: true                          # Use HF authentication token\n",
    "\n",
    "\n",
    "trust_remote_code: true\n",
    "strict: false\n",
    "datasets:\n",
    "  - path: /kaggle/input/dataset-v2/ClarTTS_csv.jsonl\n",
    "    type: completion\n",
    "    field: text\n",
    "    \n",
    "dataset_prepared_path: \n",
    "val_set_size: 0.05\n",
    "output_dir: /kaggle/working/spark_out\n",
    "sequence_len: 2048\n",
    "sample_packing: true\n",
    "eval_sample_packing: true\n",
    "pad_to_sequence_len: true\n",
    "\n",
    "use_tensorboard: true\n",
    "# wandb_project: spark-tts-finetuning\n",
    "# wandb_watch: all\n",
    "# wandb_name: spark-tts-t4-run1\n",
    "# wandb_log_model: \"checkpoint\"      # Fixed: Changed from true to \"true\"\n",
    "\n",
    "# T4-Optimized Settings\n",
    "gradient_accumulation_steps: 4  # Increased to maintain effective batch size\n",
    "micro_batch_size: 1             # Reduced for T4's 16GB VRAM\n",
    "num_epochs: 16\n",
    "optimizer: adamw_torch_fused\n",
    "lr_scheduler: cosine\n",
    "learning_rate: 0.0002\n",
    "train_on_inputs: false\n",
    "group_by_length: false\n",
    "\n",
    "# GPU Architecture Compatibility (T4 = Turing, not Ampere)\n",
    "bf16: false              # T4 has limited bfloat16 support\n",
    "fp16: false               # T4 supports FP16 mixed precision\n",
    "tf32: false              # T4 doesn't support TF32 (Ampere+ only)\n",
    "\n",
    "# Memory and Performance Optimization\n",
    "gradient_checkpointing: true\n",
    "gradient_checkpointing_kwargs:\n",
    "  use_reentrant: false\n",
    "\n",
    "# Attention Mechanism (T4 Compatible)\n",
    "xformers_attention: true    # Works well on T4\n",
    "flash_attention: false      # T4 doesn't support FlashAttention\n",
    "\n",
    "# Training Configuration\n",
    "early_stopping_patience:\n",
    "resume_from_checkpoint:\n",
    "local_rank:\n",
    "logging_steps: 25\n",
    "warmup_steps: 10\n",
    "evals_per_epoch: 1\n",
    "save_steps: 1000\n",
    "debug:\n",
    "deepspeed:\n",
    "weight_decay: 0.0"
   ]
  },
  {
   "cell_type": "markdown",
   "metadata": {},
   "source": [
    "# get the finetune repo "
   ]
  },
  {
   "cell_type": "code",
   "execution_count": 1,
   "metadata": {
    "colab": {
     "base_uri": "https://localhost:8080/"
    },
    "collapsed": true,
    "execution": {
     "iopub.execute_input": "2025-06-12T13:19:32.983177Z",
     "iopub.status.busy": "2025-06-12T13:19:32.982961Z",
     "iopub.status.idle": "2025-06-12T13:19:34.136915Z",
     "shell.execute_reply": "2025-06-12T13:19:34.136045Z",
     "shell.execute_reply.started": "2025-06-12T13:19:32.983150Z"
    },
    "id": "r-PYw6hAyYXD",
    "jupyter": {
     "outputs_hidden": true
    },
    "outputId": "d260be00-858c-46fc-974a-0e8ae6c3d1b5",
    "trusted": true
   },
   "outputs": [
    {
     "name": "stdout",
     "output_type": "stream",
     "text": [
      "Cloning into 'Spark-TTS-finetune_clar'...\n",
      "remote: Enumerating objects: 97, done.\u001b[K\n",
      "remote: Counting objects: 100% (97/97), done.\u001b[K\n",
      "remote: Compressing objects: 100% (78/78), done.\u001b[K\n",
      "remote: Total 97 (delta 30), reused 40 (delta 4), pack-reused 0 (from 0)\u001b[K\n",
      "Receiving objects: 100% (97/97), 54.74 KiB | 2.03 MiB/s, done.\n",
      "Resolving deltas: 100% (30/30), done.\n"
     ]
    }
   ],
   "source": [
    "!git clone https://github.com/ali-adel/Spark-TTS-finetune_clar.git"
   ]
  },
  {
   "cell_type": "code",
   "execution_count": 2,
   "metadata": {
    "colab": {
     "base_uri": "https://localhost:8080/"
    },
    "execution": {
     "iopub.execute_input": "2025-06-12T13:19:34.139167Z",
     "iopub.status.busy": "2025-06-12T13:19:34.138871Z",
     "iopub.status.idle": "2025-06-12T13:19:34.148395Z",
     "shell.execute_reply": "2025-06-12T13:19:34.147569Z",
     "shell.execute_reply.started": "2025-06-12T13:19:34.139138Z"
    },
    "id": "UDnKS0fmyYXE",
    "outputId": "76b8e4f6-f2b5-4a6a-c7e3-1d434a44a47b",
    "trusted": true
   },
   "outputs": [
    {
     "name": "stdout",
     "output_type": "stream",
     "text": [
      "/kaggle/working/Spark-TTS-finetune_clar\n"
     ]
    }
   ],
   "source": [
    "%cd /kaggle/working/Spark-TTS-finetune_clar"
   ]
  },
  {
   "cell_type": "markdown",
   "metadata": {},
   "source": [
    "# Install requirements"
   ]
  },
  {
   "cell_type": "code",
   "execution_count": null,
   "metadata": {
    "collapsed": true,
    "execution": {
     "iopub.execute_input": "2025-06-12T13:19:34.153219Z",
     "iopub.status.busy": "2025-06-12T13:19:34.152991Z",
     "iopub.status.idle": "2025-06-12T13:20:14.285566Z",
     "shell.execute_reply": "2025-06-12T13:20:14.284514Z",
     "shell.execute_reply.started": "2025-06-12T13:19:34.153202Z"
    },
    "id": "BzaxplgpyYXF",
    "jupyter": {
     "outputs_hidden": true
    },
    "trusted": true
   },
   "outputs": [],
   "source": [
    "!pip install -U packaging setuptools wheel ninja"
   ]
  },
  {
   "cell_type": "code",
   "execution_count": null,
   "metadata": {
    "collapsed": true,
    "execution": {
     "iopub.execute_input": "2025-06-12T13:20:14.287270Z",
     "iopub.status.busy": "2025-06-12T13:20:14.286944Z",
     "iopub.status.idle": "2025-06-12T13:25:36.474037Z",
     "shell.execute_reply": "2025-06-12T13:25:36.473044Z",
     "shell.execute_reply.started": "2025-06-12T13:20:14.287232Z"
    },
    "id": "hO2bmodEyYXF",
    "jupyter": {
     "outputs_hidden": true
    },
    "trusted": true
   },
   "outputs": [],
   "source": [
    "!pip install --no-build-isolation axolotl[flash-attn,deepspeed]"
   ]
  },
  {
   "cell_type": "code",
   "execution_count": null,
   "metadata": {
    "collapsed": true,
    "execution": {
     "iopub.execute_input": "2025-06-12T13:25:36.487850Z",
     "iopub.status.busy": "2025-06-12T13:25:36.487598Z",
     "iopub.status.idle": "2025-06-12T13:28:00.373717Z",
     "shell.execute_reply": "2025-06-12T13:28:00.372549Z",
     "shell.execute_reply.started": "2025-06-12T13:25:36.487826Z"
    },
    "id": "L2pVtgeBeUUf",
    "jupyter": {
     "outputs_hidden": true
    },
    "trusted": true
   },
   "outputs": [],
   "source": [
    "!pip install torch==2.1.2 torchvision==0.16.2 transformers==4.38.2 torchaudio==2.1.2 sentence-transformers==2.2.2 --extra-index-url https://download.pytorch.org/whl/cu118"
   ]
  },
  {
   "cell_type": "code",
   "execution_count": null,
   "metadata": {
    "collapsed": true,
    "execution": {
     "iopub.execute_input": "2025-06-12T13:28:00.375375Z",
     "iopub.status.busy": "2025-06-12T13:28:00.375060Z",
     "iopub.status.idle": "2025-06-12T13:29:06.629661Z",
     "shell.execute_reply": "2025-06-12T13:29:06.628787Z",
     "shell.execute_reply.started": "2025-06-12T13:28:00.375340Z"
    },
    "id": "tw1RLRiXeXWc",
    "jupyter": {
     "outputs_hidden": true
    },
    "trusted": true
   },
   "outputs": [],
   "source": [
    "!pip install axolotl"
   ]
  },
  {
   "cell_type": "code",
   "execution_count": 8,
   "metadata": {
    "colab": {
     "base_uri": "https://localhost:8080/"
    },
    "execution": {
     "iopub.execute_input": "2025-06-12T13:29:06.630978Z",
     "iopub.status.busy": "2025-06-12T13:29:06.630700Z",
     "iopub.status.idle": "2025-06-12T13:29:06.636328Z",
     "shell.execute_reply": "2025-06-12T13:29:06.635610Z",
     "shell.execute_reply.started": "2025-06-12T13:29:06.630950Z"
    },
    "id": "yHdAai8KyYXF",
    "outputId": "93bea2eb-c0b5-4885-f57d-5eb553480285",
    "trusted": true
   },
   "outputs": [
    {
     "name": "stdout",
     "output_type": "stream",
     "text": [
      "/kaggle/working/Spark-TTS-finetune_clar\n"
     ]
    }
   ],
   "source": [
    "%cd /kaggle/working/Spark-TTS-finetune_clar"
   ]
  },
  {
   "cell_type": "code",
   "execution_count": null,
   "metadata": {
    "collapsed": true,
    "execution": {
     "iopub.execute_input": "2025-06-12T13:29:06.637552Z",
     "iopub.status.busy": "2025-06-12T13:29:06.637272Z",
     "iopub.status.idle": "2025-06-12T13:29:17.507774Z",
     "shell.execute_reply": "2025-06-12T13:29:17.506702Z",
     "shell.execute_reply.started": "2025-06-12T13:29:06.637527Z"
    },
    "id": "kLdoEoj0yYXG",
    "jupyter": {
     "outputs_hidden": true
    },
    "trusted": true
   },
   "outputs": [],
   "source": [
    "!python -m src.download_pretrain"
   ]
  },
  {
   "cell_type": "code",
   "execution_count": 10,
   "metadata": {
    "colab": {
     "base_uri": "https://localhost:8080/"
    },
    "execution": {
     "iopub.execute_input": "2025-06-12T13:29:17.509483Z",
     "iopub.status.busy": "2025-06-12T13:29:17.509105Z",
     "iopub.status.idle": "2025-06-12T13:29:17.515812Z",
     "shell.execute_reply": "2025-06-12T13:29:17.514766Z",
     "shell.execute_reply.started": "2025-06-12T13:29:17.509442Z"
    },
    "id": "P4XIt_sAyYXH",
    "outputId": "0ee9af7f-eeae-4529-d1fb-640c05954e3a",
    "trusted": true
   },
   "outputs": [
    {
     "name": "stdout",
     "output_type": "stream",
     "text": [
      "/kaggle/working/Spark-TTS-finetune_clar\n"
     ]
    }
   ],
   "source": [
    "%cd /kaggle/working/Spark-TTS-finetune_clar"
   ]
  },
  {
   "cell_type": "code",
   "execution_count": null,
   "metadata": {
    "collapsed": true,
    "execution": {
     "iopub.execute_input": "2025-06-12T13:29:17.517606Z",
     "iopub.status.busy": "2025-06-12T13:29:17.516833Z",
     "iopub.status.idle": "2025-06-12T13:29:36.112112Z",
     "shell.execute_reply": "2025-06-12T13:29:36.111397Z",
     "shell.execute_reply.started": "2025-06-12T13:29:17.517573Z"
    },
    "id": "sg_cWxfegl3E",
    "jupyter": {
     "outputs_hidden": true
    },
    "trusted": true
   },
   "outputs": [],
   "source": [
    "!pip install flash-attn --no-build-isolation"
   ]
  },
  {
   "cell_type": "markdown",
   "metadata": {},
   "source": [
    "# get checkpoint from drive to resume from it if needed"
   ]
  },
  {
   "cell_type": "code",
   "execution_count": 13,
   "metadata": {
    "collapsed": true,
    "execution": {
     "iopub.execute_input": "2025-06-10T20:42:56.368291Z",
     "iopub.status.busy": "2025-06-10T20:42:56.368002Z",
     "iopub.status.idle": "2025-06-10T20:43:47.007702Z",
     "shell.execute_reply": "2025-06-10T20:43:47.006794Z",
     "shell.execute_reply.started": "2025-06-10T20:42:56.368269Z"
    },
    "jupyter": {
     "outputs_hidden": true
    },
    "trusted": true
   },
   "outputs": [
    {
     "name": "stdout",
     "output_type": "stream",
     "text": [
      "/kaggle/working\n",
      "Downloading...\n",
      "From (original): https://drive.google.com/uc?id=1I7c2_7Z9CUAccHxErGI3K4egXAoZJJK7\n",
      "From (redirected): https://drive.google.com/uc?id=1I7c2_7Z9CUAccHxErGI3K4egXAoZJJK7&confirm=t&uuid=993db2d6-e9ee-4c2e-906f-a7edfac64376\n",
      "To: /kaggle/working/checkpoint-2000.zip\n",
      "100%|███████████████████████████████████████| 5.60G/5.60G [00:46<00:00, 121MB/s]\n"
     ]
    }
   ],
   "source": [
    "# %cd /kaggle/working/\n",
    "# !gdown 1I7c2_7Z9CUAccHxErGI3K4egXAoZJJK7"
   ]
  },
  {
   "cell_type": "code",
   "execution_count": 14,
   "metadata": {
    "collapsed": true,
    "execution": {
     "iopub.execute_input": "2025-06-10T20:45:09.951030Z",
     "iopub.status.busy": "2025-06-10T20:45:09.950664Z",
     "iopub.status.idle": "2025-06-10T20:46:17.363658Z",
     "shell.execute_reply": "2025-06-10T20:46:17.362665Z",
     "shell.execute_reply.started": "2025-06-10T20:45:09.950996Z"
    },
    "jupyter": {
     "outputs_hidden": true
    },
    "trusted": true
   },
   "outputs": [
    {
     "name": "stdout",
     "output_type": "stream",
     "text": [
      "Archive:  /kaggle/working/checkpoint-2000.zip\n",
      "  inflating: /kaggle/working/checkpoint-2000/tokenizer_config.json  \n",
      "  inflating: /kaggle/working/checkpoint-2000/training_args.bin  \n",
      "  inflating: /kaggle/working/checkpoint-2000/merges.txt  \n",
      "  inflating: /kaggle/working/checkpoint-2000/vocab.json  \n",
      "  inflating: /kaggle/working/checkpoint-2000/special_tokens_map.json  \n",
      "  inflating: /kaggle/working/checkpoint-2000/optimizer.pt  \n",
      "  inflating: /kaggle/working/checkpoint-2000/model.safetensors  \n",
      "  inflating: /kaggle/working/checkpoint-2000/rng_state_0.pth  \n",
      "  inflating: /kaggle/working/checkpoint-2000/config.json  \n",
      "  inflating: /kaggle/working/checkpoint-2000/scheduler.pt  \n",
      "  inflating: /kaggle/working/checkpoint-2000/added_tokens.json  \n",
      "  inflating: /kaggle/working/checkpoint-2000/rng_state_1.pth  \n",
      "  inflating: /kaggle/working/checkpoint-2000/trainer_state.json  \n",
      "  inflating: /kaggle/working/checkpoint-2000/generation_config.json  \n",
      "  inflating: /kaggle/working/checkpoint-2000/tokenizer.json  \n"
     ]
    }
   ],
   "source": [
    "#!unzip /kaggle/working/checkpoint-2000.zip -d /kaggle/working/checkpoint-2000"
   ]
  },
  {
   "cell_type": "code",
   "execution_count": 12,
   "metadata": {
    "execution": {
     "iopub.execute_input": "2025-06-12T13:29:36.114921Z",
     "iopub.status.busy": "2025-06-12T13:29:36.114701Z",
     "iopub.status.idle": "2025-06-12T13:29:36.119688Z",
     "shell.execute_reply": "2025-06-12T13:29:36.119029Z",
     "shell.execute_reply.started": "2025-06-12T13:29:36.114900Z"
    },
    "trusted": true
   },
   "outputs": [
    {
     "name": "stdout",
     "output_type": "stream",
     "text": [
      "/kaggle/working/Spark-TTS-finetune_clar\n"
     ]
    }
   ],
   "source": [
    "%cd /kaggle/working/Spark-TTS-finetune_clar"
   ]
  },
  {
   "cell_type": "code",
   "execution_count": null,
   "metadata": {
    "collapsed": true,
    "execution": {
     "iopub.execute_input": "2025-06-12T13:29:36.120479Z",
     "iopub.status.busy": "2025-06-12T13:29:36.120317Z",
     "iopub.status.idle": "2025-06-12T17:27:55.162782Z",
     "shell.execute_reply": "2025-06-12T17:27:55.161466Z",
     "shell.execute_reply.started": "2025-06-12T13:29:36.120465Z"
    },
    "jupyter": {
     "outputs_hidden": true
    },
    "trusted": true
   },
   "outputs": [],
   "source": [
    "!axolotl train config_axolotl/full_finetune.yml"
   ]
  },
  {
   "cell_type": "code",
   "execution_count": 64,
   "metadata": {
    "execution": {
     "iopub.execute_input": "2025-06-11T01:54:44.923165Z",
     "iopub.status.busy": "2025-06-11T01:54:44.922353Z",
     "iopub.status.idle": "2025-06-11T01:54:46.384535Z",
     "shell.execute_reply": "2025-06-11T01:54:46.383380Z",
     "shell.execute_reply.started": "2025-06-11T01:54:44.923139Z"
    },
    "trusted": true
   },
   "outputs": [],
   "source": [
    "#!rm /kaggle/working/checkpoint-2500.zip"
   ]
  },
  {
   "cell_type": "code",
   "execution_count": 56,
   "metadata": {
    "execution": {
     "iopub.execute_input": "2025-06-09T21:50:43.913192Z",
     "iopub.status.busy": "2025-06-09T21:50:43.911649Z",
     "iopub.status.idle": "2025-06-09T21:50:43.924716Z",
     "shell.execute_reply": "2025-06-09T21:50:43.923842Z",
     "shell.execute_reply.started": "2025-06-09T21:50:43.913157Z"
    },
    "trusted": true
   },
   "outputs": [
    {
     "name": "stdout",
     "output_type": "stream",
     "text": [
      "/kaggle/working\n"
     ]
    }
   ],
   "source": [
    "#%cd /kaggle/working/"
   ]
  },
  {
   "cell_type": "markdown",
   "metadata": {},
   "source": [
    "# to zip folder to upload on drive"
   ]
  },
  {
   "cell_type": "code",
   "execution_count": 20,
   "metadata": {
    "execution": {
     "iopub.execute_input": "2025-06-12T17:46:17.256728Z",
     "iopub.status.busy": "2025-06-12T17:46:17.256425Z",
     "iopub.status.idle": "2025-06-12T17:46:17.270548Z",
     "shell.execute_reply": "2025-06-12T17:46:17.270002Z",
     "shell.execute_reply.started": "2025-06-12T17:46:17.256707Z"
    },
    "trusted": true
   },
   "outputs": [
    {
     "name": "stdout",
     "output_type": "stream",
     "text": [
      "Folder zipped successfully to /kaggle/working/runs_1000_best.zip\n"
     ]
    }
   ],
   "source": [
    "import shutil\n",
    "\n",
    "# Path to the folder you want to zip\n",
    "folder_to_zip = '/kaggle/working/spark_out/runs'  # Change this to your folder path\n",
    "# Output zip file (without .zip extension)\n",
    "output_zip_path = '/kaggle/working/runs_1000_best'  # This will create my_folder_backup.zip\n",
    "\n",
    "# Create the zip archive\n",
    "shutil.make_archive(output_zip_path, 'zip', folder_to_zip)\n",
    "\n",
    "print(f\"Folder zipped successfully to {output_zip_path}.zip\")\n"
   ]
  },
  {
   "cell_type": "markdown",
   "metadata": {},
   "source": [
    "# upload on drive using google cloud services"
   ]
  },
  {
   "cell_type": "code",
   "execution_count": 21,
   "metadata": {
    "execution": {
     "iopub.execute_input": "2025-06-12T17:46:37.369849Z",
     "iopub.status.busy": "2025-06-12T17:46:37.369606Z",
     "iopub.status.idle": "2025-06-12T17:46:39.069451Z",
     "shell.execute_reply": "2025-06-12T17:46:39.068653Z",
     "shell.execute_reply.started": "2025-06-12T17:46:37.369832Z"
    },
    "trusted": true
   },
   "outputs": [
    {
     "name": "stdout",
     "output_type": "stream",
     "text": [
      "Uploading runs_1000_best.zip to Google Drive...\n",
      "✅ Successfully uploaded!\n",
      "   File Name: runs_1000_best.zip\n",
      "   File ID: 1L6AC9oARlQfNYOCJoLanrJHIMTwM4FHo\n",
      "   File Size: 0.01 MB\n"
     ]
    },
    {
     "data": {
      "text/plain": [
       "'1L6AC9oARlQfNYOCJoLanrJHIMTwM4FHo'"
      ]
     },
     "execution_count": 21,
     "metadata": {},
     "output_type": "execute_result"
    }
   ],
   "source": [
    "from googleapiclient.discovery import build\n",
    "from google.oauth2.service_account import Credentials\n",
    "from googleapiclient.http import MediaFileUpload\n",
    "import os\n",
    "\n",
    "# Configuration\n",
    "SCOPES = ['https://www.googleapis.com/auth/drive']\n",
    "SERVICE_ACCOUNT_FILE = '/kaggle/input/best-api/best_api.json'\n",
    "PARENT_FOLDER_ID = \"17IB8tq62wZJDUlOIL74BAgsXU35I-VrL\"\n",
    "\n",
    "def authenticate():\n",
    "    \"\"\"Authenticate with Google Drive API\"\"\"\n",
    "    creds = Credentials.from_service_account_file(SERVICE_ACCOUNT_FILE, scopes=SCOPES)\n",
    "    return creds\n",
    "\n",
    "def upload_zip_file(zip_file_path):\n",
    "    \"\"\"Upload ZIP file to Google Drive\"\"\"\n",
    "    try:\n",
    "        # Check if file exists\n",
    "        if not os.path.exists(zip_file_path):\n",
    "            print(f\"❌ File not found: {zip_file_path}\")\n",
    "            return None\n",
    "        \n",
    "        # Authenticate\n",
    "        creds = authenticate()\n",
    "        service = build('drive', 'v3', credentials=creds)\n",
    "        \n",
    "        # Get file name from path\n",
    "        file_name = os.path.basename(zip_file_path)\n",
    "        \n",
    "        # File metadata\n",
    "        file_metadata = {\n",
    "            'name': file_name,\n",
    "            'parents': [PARENT_FOLDER_ID]\n",
    "        }\n",
    "        \n",
    "        # Upload the file\n",
    "        media = MediaFileUpload(zip_file_path, \n",
    "                              mimetype='application/zip',\n",
    "                              resumable=True)\n",
    "        \n",
    "        print(f\"Uploading {file_name} to Google Drive...\")\n",
    "        \n",
    "        file = service.files().create(\n",
    "            body=file_metadata,\n",
    "            media_body=media,\n",
    "            fields='id,name,size'\n",
    "        ).execute()\n",
    "        \n",
    "        print(f\"✅ Successfully uploaded!\")\n",
    "        print(f\"   File Name: {file.get('name')}\")\n",
    "        print(f\"   File ID: {file.get('id')}\")\n",
    "        print(f\"   File Size: {int(file.get('size', 0)) / (1024*1024):.2f} MB\")\n",
    "        \n",
    "        return file.get('id')\n",
    "        \n",
    "    except Exception as e:\n",
    "        print(f\"❌ Error uploading file: {str(e)}\")\n",
    "        return None\n",
    "\n",
    "# Usage - Replace with your ZIP file path\n",
    "zip_path = \"/kaggle/working/runs_1000_best.zip\"  # Change this to your ZIP file path\n",
    "upload_zip_file(zip_path)"
   ]
  },
  {
   "cell_type": "markdown",
   "metadata": {},
   "source": [
    "# List and delete files from google cloud "
   ]
  },
  {
   "cell_type": "code",
   "execution_count": 22,
   "metadata": {
    "execution": {
     "iopub.execute_input": "2025-06-12T17:47:08.607587Z",
     "iopub.status.busy": "2025-06-12T17:47:08.607174Z",
     "iopub.status.idle": "2025-06-12T17:47:08.615792Z",
     "shell.execute_reply": "2025-06-12T17:47:08.614897Z",
     "shell.execute_reply.started": "2025-06-12T17:47:08.607549Z"
    },
    "trusted": true
   },
   "outputs": [],
   "source": [
    "def list_files():\n",
    "    creds = authenticate()\n",
    "    service = build('drive', 'v3', credentials=creds)\n",
    "    results = service.files().list(pageSize=100, fields=\"files(id, name)\").execute()\n",
    "    files = results.get('files', [])\n",
    "    if not files:\n",
    "        print(\"No files found.\")\n",
    "    else:\n",
    "        print(\"Files:\")\n",
    "        for file in files:\n",
    "            print(f\"{file['name']} (ID: {file['id']})\")\n",
    "\n",
    "def delete_file(file_id):\n",
    "    creds = authenticate()\n",
    "    service = build('drive', 'v3', credentials=creds)\n",
    "    try:\n",
    "        service.files().delete(fileId=file_id).execute()\n",
    "        print(f\"Deleted file with ID: {file_id}\")\n",
    "    except Exception as e:\n",
    "        print(f\"An error occurred: {e}\")"
   ]
  },
  {
   "cell_type": "code",
   "execution_count": 23,
   "metadata": {
    "execution": {
     "iopub.execute_input": "2025-06-12T17:47:08.916801Z",
     "iopub.status.busy": "2025-06-12T17:47:08.916146Z",
     "iopub.status.idle": "2025-06-12T17:47:09.802206Z",
     "shell.execute_reply": "2025-06-12T17:47:09.801347Z",
     "shell.execute_reply.started": "2025-06-12T17:47:08.916769Z"
    },
    "trusted": true
   },
   "outputs": [
    {
     "name": "stdout",
     "output_type": "stream",
     "text": [
      "Files:\n",
      "runs_1000_best.zip (ID: 1L6AC9oARlQfNYOCJoLanrJHIMTwM4FHo)\n",
      "ck-1000_best.zip (ID: 1iyI1GBdPhKpOFVRwpdq8fT6Hi7VjbGkW)\n",
      "spark_best (ID: 17IB8tq62wZJDUlOIL74BAgsXU35I-VrL)\n"
     ]
    }
   ],
   "source": [
    "list_files()"
   ]
  },
  {
   "cell_type": "code",
   "execution_count": 58,
   "metadata": {
    "execution": {
     "iopub.execute_input": "2025-06-11T01:51:02.675750Z",
     "iopub.status.busy": "2025-06-11T01:51:02.675465Z",
     "iopub.status.idle": "2025-06-11T01:51:03.614962Z",
     "shell.execute_reply": "2025-06-11T01:51:03.614100Z",
     "shell.execute_reply.started": "2025-06-11T01:51:02.675728Z"
    },
    "trusted": true
   },
   "outputs": [
    {
     "name": "stdout",
     "output_type": "stream",
     "text": [
      "Deleted file with ID: 1nAZrmfhQ-dAajcuu9-JYbpMskYfNNBk-\n"
     ]
    }
   ],
   "source": [
    "delete_file(\"1nAZrmfhQ-dAajcuu9-JYbpMskYfNNBk-\")"
   ]
  }
 ],
 "metadata": {
  "accelerator": "GPU",
  "colab": {
   "gpuType": "T4",
   "provenance": []
  },
  "kaggle": {
   "accelerator": "nvidiaTeslaT4",
   "dataSources": [
    {
     "datasetId": 7633884,
     "sourceId": 12123576,
     "sourceType": "datasetVersion"
    },
    {
     "datasetId": 7633928,
     "sourceId": 12123643,
     "sourceType": "datasetVersion"
    },
    {
     "datasetId": 7649854,
     "sourceId": 12146105,
     "sourceType": "datasetVersion"
    }
   ],
   "dockerImageVersionId": 31041,
   "isGpuEnabled": true,
   "isInternetEnabled": true,
   "language": "python",
   "sourceType": "notebook"
  },
  "kernelspec": {
   "display_name": "Python 3",
   "language": "python",
   "name": "python3"
  },
  "language_info": {
   "codemirror_mode": {
    "name": "ipython",
    "version": 3
   },
   "file_extension": ".py",
   "mimetype": "text/x-python",
   "name": "python",
   "nbconvert_exporter": "python",
   "pygments_lexer": "ipython3",
   "version": "3.11.11"
  }
 },
 "nbformat": 4,
 "nbformat_minor": 4
}
