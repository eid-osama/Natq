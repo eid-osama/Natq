{
  "metadata": {
    "kernelspec": {
      "name": "python3",
      "display_name": "Python 3",
      "language": "python"
    },
    "language_info": {
      "name": "python",
      "version": "3.11.11",
      "mimetype": "text/x-python",
      "codemirror_mode": {
        "name": "ipython",
        "version": 3
      },
      "pygments_lexer": "ipython3",
      "nbconvert_exporter": "python",
      "file_extension": ".py"
    },
    "kaggle": {
      "accelerator": "gpu",
      "dataSources": [
        {
          "sourceId": 12090087,
          "sourceType": "datasetVersion",
          "datasetId": 7610853
        },
        {
          "sourceId": 12090367,
          "sourceType": "datasetVersion",
          "datasetId": 7611043
        },
        {
          "sourceId": 12091033,
          "sourceType": "datasetVersion",
          "datasetId": 7611486
        },
        {
          "sourceId": 12091255,
          "sourceType": "datasetVersion",
          "datasetId": 7611612
        },
        {
          "sourceId": 12091400,
          "sourceType": "datasetVersion",
          "datasetId": 7611709
        },
        {
          "sourceId": 12092152,
          "sourceType": "datasetVersion",
          "datasetId": 7612187
        },
        {
          "sourceId": 12092198,
          "sourceType": "datasetVersion",
          "datasetId": 7612214
        }
      ],
      "dockerImageVersionId": 31041,
      "isInternetEnabled": true,
      "language": "python",
      "sourceType": "notebook",
      "isGpuEnabled": true
    },
    "colab": {
      "provenance": [],
      "gpuType": "T4"
    },
    "accelerator": "GPU"
  },
  "nbformat_minor": 0,
  "nbformat": 4,
  "cells": [
    {
      "cell_type": "markdown",
      "source": [
        "# connect drive"
      ],
      "metadata": {
        "id": "C55pF45EzeH7"
      }
    },
    {
      "cell_type": "code",
      "source": [
        "from google.colab import drive\n",
        "drive.mount('/content/drive')"
      ],
      "metadata": {
        "colab": {
          "base_uri": "https://localhost:8080/"
        },
        "id": "EGEwQy7Bikjm",
        "outputId": "86d69269-9210-4f46-b47e-b4a73ccaa8dc"
      },
      "execution_count": null,
      "outputs": [
        {
          "output_type": "stream",
          "name": "stdout",
          "text": [
            "Mounted at /content/drive\n"
          ]
        }
      ]
    },
    {
      "cell_type": "markdown",
      "source": [
        "# Finetune repo to put our finetuned model in\n",
        "- put in : /content/Spark-TTS-finetune/pretrained_models/Spark-TTS-0.5B/LLM"
      ],
      "metadata": {
        "id": "sVnkNHxmzi9u"
      }
    },
    {
      "cell_type": "code",
      "source": [
        "!git clone https://github.com/tuanh123789/Spark-TTS-finetune"
      ],
      "metadata": {
        "trusted": true,
        "execution": {
          "iopub.status.busy": "2025-06-07T14:43:14.185296Z",
          "iopub.execute_input": "2025-06-07T14:43:14.186139Z",
          "iopub.status.idle": "2025-06-07T14:43:14.896706Z",
          "shell.execute_reply.started": "2025-06-07T14:43:14.186109Z",
          "shell.execute_reply": "2025-06-07T14:43:14.896047Z"
        },
        "id": "r-PYw6hAyYXD"
      },
      "outputs": [],
      "execution_count": null
    },
    {
      "cell_type": "code",
      "source": [
        "%cd Spark-TTS-finetune"
      ],
      "metadata": {
        "trusted": true,
        "execution": {
          "iopub.status.busy": "2025-06-07T14:43:16.176670Z",
          "iopub.execute_input": "2025-06-07T14:43:16.177414Z",
          "iopub.status.idle": "2025-06-07T14:43:16.182382Z",
          "shell.execute_reply.started": "2025-06-07T14:43:16.177385Z",
          "shell.execute_reply": "2025-06-07T14:43:16.181707Z"
        },
        "colab": {
          "base_uri": "https://localhost:8080/"
        },
        "id": "UDnKS0fmyYXE",
        "outputId": "34fd2e4e-024e-4d7f-d8e3-bf6828fd07c7"
      },
      "outputs": [
        {
          "output_type": "stream",
          "name": "stdout",
          "text": [
            "/content/Spark-TTS-finetune\n"
          ]
        }
      ],
      "execution_count": null
    },
    {
      "cell_type": "markdown",
      "source": [
        "# Install requiremnents"
      ],
      "metadata": {
        "id": "vFJI1_sdz7EH"
      }
    },
    {
      "cell_type": "code",
      "source": [
        "!pip install -U packaging setuptools wheel ninja"
      ],
      "metadata": {
        "trusted": true,
        "execution": {
          "iopub.status.busy": "2025-06-07T14:43:18.488404Z",
          "iopub.execute_input": "2025-06-07T14:43:18.488884Z",
          "iopub.status.idle": "2025-06-07T14:43:34.314634Z",
          "shell.execute_reply.started": "2025-06-07T14:43:18.488858Z",
          "shell.execute_reply": "2025-06-07T14:43:34.313866Z"
        },
        "collapsed": true,
        "jupyter": {
          "outputs_hidden": true
        },
        "id": "BzaxplgpyYXF"
      },
      "outputs": [],
      "execution_count": null
    },
    {
      "cell_type": "code",
      "source": [
        "!pip install --no-build-isolation axolotl[flash-attn,deepspeed]"
      ],
      "metadata": {
        "trusted": true,
        "execution": {
          "iopub.status.busy": "2025-06-07T14:43:34.316303Z",
          "iopub.execute_input": "2025-06-07T14:43:34.316506Z",
          "iopub.status.idle": "2025-06-07T14:48:20.063818Z",
          "shell.execute_reply.started": "2025-06-07T14:43:34.316485Z",
          "shell.execute_reply": "2025-06-07T14:48:20.062845Z"
        },
        "collapsed": true,
        "jupyter": {
          "outputs_hidden": true
        },
        "id": "hO2bmodEyYXF"
      },
      "outputs": [],
      "execution_count": null
    },
    {
      "cell_type": "code",
      "source": [
        "%cd /kaggle/working/Spark-TTS-finetune"
      ],
      "metadata": {
        "trusted": true,
        "execution": {
          "iopub.status.busy": "2025-06-07T13:58:17.693797Z",
          "iopub.execute_input": "2025-06-07T13:58:17.694508Z",
          "iopub.status.idle": "2025-06-07T13:58:17.698889Z",
          "shell.execute_reply.started": "2025-06-07T13:58:17.694455Z",
          "shell.execute_reply": "2025-06-07T13:58:17.698192Z"
        },
        "colab": {
          "base_uri": "https://localhost:8080/"
        },
        "id": "yHdAai8KyYXF",
        "outputId": "6a7a1bc8-fc07-4a48-d10c-555ac95818ce"
      },
      "outputs": [
        {
          "output_type": "stream",
          "name": "stdout",
          "text": [
            "[Errno 2] No such file or directory: '/kaggle/working/Spark-TTS-finetune'\n",
            "/content\n"
          ]
        }
      ],
      "execution_count": null
    },
    {
      "cell_type": "code",
      "source": [
        "!python -m src.download_pretrain"
      ],
      "metadata": {
        "trusted": true,
        "execution": {
          "iopub.status.busy": "2025-06-07T14:48:20.064825Z",
          "iopub.execute_input": "2025-06-07T14:48:20.065135Z",
          "iopub.status.idle": "2025-06-07T14:48:29.102611Z",
          "shell.execute_reply.started": "2025-06-07T14:48:20.065104Z",
          "shell.execute_reply": "2025-06-07T14:48:29.101913Z"
        },
        "collapsed": true,
        "jupyter": {
          "outputs_hidden": true
        },
        "id": "kLdoEoj0yYXG"
      },
      "outputs": [],
      "execution_count": null
    },
    {
      "cell_type": "code",
      "source": [
        "%cd /content/Spark-TTS-finetune"
      ],
      "metadata": {
        "trusted": true,
        "execution": {
          "iopub.status.busy": "2025-06-07T14:50:43.481640Z",
          "iopub.execute_input": "2025-06-07T14:50:43.481953Z",
          "iopub.status.idle": "2025-06-07T14:50:43.487325Z",
          "shell.execute_reply.started": "2025-06-07T14:50:43.481918Z",
          "shell.execute_reply": "2025-06-07T14:50:43.486603Z"
        },
        "colab": {
          "base_uri": "https://localhost:8080/"
        },
        "id": "P4XIt_sAyYXH",
        "outputId": "36979969-f53f-4254-e320-edaeee062393"
      },
      "outputs": [
        {
          "output_type": "stream",
          "name": "stdout",
          "text": [
            "/content/Spark-TTS-finetune\n"
          ]
        }
      ],
      "execution_count": null
    },
    {
      "cell_type": "code",
      "source": [
        "!pip install axolotl"
      ],
      "metadata": {
        "id": "-uX2aQCOG2Cr",
        "trusted": true,
        "execution": {
          "iopub.status.busy": "2025-06-07T14:50:43.487931Z",
          "iopub.execute_input": "2025-06-07T14:50:43.488209Z",
          "iopub.status.idle": "2025-06-07T14:52:13.002307Z",
          "shell.execute_reply.started": "2025-06-07T14:50:43.488183Z",
          "shell.execute_reply": "2025-06-07T14:52:13.001327Z"
        },
        "collapsed": true,
        "jupyter": {
          "outputs_hidden": true
        }
      },
      "outputs": [],
      "execution_count": null
    },
    {
      "cell_type": "code",
      "source": [
        "!pip install flash-attn --no-build-isolation"
      ],
      "metadata": {
        "id": "sg_cWxfegl3E",
        "trusted": true,
        "execution": {
          "iopub.status.busy": "2025-06-07T15:03:53.941366Z",
          "iopub.execute_input": "2025-06-07T15:03:53.941670Z",
          "iopub.status.idle": "2025-06-07T15:03:56.897931Z",
          "shell.execute_reply.started": "2025-06-07T15:03:53.941643Z",
          "shell.execute_reply": "2025-06-07T15:03:56.897254Z"
        },
        "collapsed": true,
        "jupyter": {
          "outputs_hidden": true
        }
      },
      "outputs": [],
      "execution_count": null
    },
    {
      "cell_type": "code",
      "source": [
        "%cd /content/"
      ],
      "metadata": {
        "colab": {
          "base_uri": "https://localhost:8080/"
        },
        "id": "fIVhbLq7quwc",
        "outputId": "4adf25cf-2783-4f89-99c4-8571637e0ee7"
      },
      "execution_count": null,
      "outputs": [
        {
          "output_type": "stream",
          "name": "stdout",
          "text": [
            "/content\n"
          ]
        }
      ]
    },
    {
      "cell_type": "markdown",
      "source": [
        "# Repo that have the inference script"
      ],
      "metadata": {
        "id": "Ff5_Cclt0ASO"
      }
    },
    {
      "cell_type": "code",
      "source": [
        "!git clone https://github.com/SparkAudio/Spark-TTS.git"
      ],
      "metadata": {
        "trusted": true,
        "execution": {
          "iopub.status.busy": "2025-06-07T14:52:48.711529Z",
          "iopub.execute_input": "2025-06-07T14:52:48.711820Z",
          "iopub.status.idle": "2025-06-07T14:52:49.533688Z",
          "shell.execute_reply.started": "2025-06-07T14:52:48.711796Z",
          "shell.execute_reply": "2025-06-07T14:52:49.532933Z"
        },
        "jupyter": {
          "outputs_hidden": true
        },
        "id": "M0YDVgJbaqDa"
      },
      "outputs": [],
      "execution_count": null
    },
    {
      "cell_type": "code",
      "source": [
        "%cd /content/Spark-TTS"
      ],
      "metadata": {
        "colab": {
          "base_uri": "https://localhost:8080/"
        },
        "id": "67SN5Uyhua6e",
        "outputId": "3aadb412-13e8-4ba2-c760-9ec0378aa5ee"
      },
      "execution_count": null,
      "outputs": [
        {
          "output_type": "stream",
          "name": "stdout",
          "text": [
            "/content/Spark-TTS-finetune\n"
          ]
        }
      ]
    },
    {
      "cell_type": "code",
      "source": [
        "!pip install -r requirements.txt"
      ],
      "metadata": {
        "id": "JZ1pzDv4uZAS"
      },
      "execution_count": null,
      "outputs": []
    },
    {
      "cell_type": "code",
      "source": [
        "!touch /content/Spark-TTS/cli/__init__.py"
      ],
      "metadata": {
        "trusted": true,
        "execution": {
          "iopub.status.busy": "2025-06-07T15:02:05.859324Z",
          "iopub.execute_input": "2025-06-07T15:02:05.859624Z",
          "iopub.status.idle": "2025-06-07T15:02:05.978795Z",
          "shell.execute_reply.started": "2025-06-07T15:02:05.859596Z",
          "shell.execute_reply": "2025-06-07T15:02:05.978028Z"
        },
        "id": "gN7h4lKbaqDa"
      },
      "outputs": [],
      "execution_count": null
    },
    {
      "cell_type": "code",
      "source": [
        "# Step 3: Install PyTorch with CUDA support\n",
        "!pip install torch torchvision torchaudio --extra-index-url https://download.pytorch.org/whl/cu118"
      ],
      "metadata": {
        "id": "NJNEeGdXvQIM"
      },
      "execution_count": null,
      "outputs": []
    },
    {
      "cell_type": "markdown",
      "source": [
        "# libs synthesis"
      ],
      "metadata": {
        "id": "szQ7yDscaqDa"
      }
    },
    {
      "cell_type": "code",
      "source": [
        "!pip uninstall torch torchvision torchaudio transformers accelerate typing_extensions -y --quiet\n",
        "!pip uninstall numpy jax jaxlib tensorflow -y --quiet\n",
        "\n",
        "# Step 2: Install compatible typing_extensions first\n",
        "!pip install \"typing_extensions>=4.8.0\"\n",
        "\n",
        "# Step 3: Install PyTorch with CUDA support\n",
        "!pip install torch torchvision torchaudio --extra-index-url https://download.pytorch.org/whl/cu118\n",
        "\n",
        "# Step 4: Install other dependencies with compatible versions\n",
        "!pip install \"transformers>=4.30.0\"\n",
        "!pip install \"numpy>=1.24.0,<2.0.0\"\n",
        "!pip install \"librosa>=0.10.0\"\n",
        "!pip install \"soundfile>=0.12.0\"\n",
        "\n",
        "# Step 5: Install additional dependencies that might be needed for Spark-TTS\n",
        "!pip install \"accelerate>=0.20.0\"\n",
        "!pip install \"datasets>=2.12.0\"\n",
        "!pip install \"tqdm>=4.65.0\""
      ],
      "metadata": {
        "trusted": true,
        "execution": {
          "iopub.status.busy": "2025-06-07T15:38:28.523916Z",
          "iopub.execute_input": "2025-06-07T15:38:28.524813Z",
          "iopub.status.idle": "2025-06-07T15:39:56.199754Z",
          "shell.execute_reply.started": "2025-06-07T15:38:28.524780Z",
          "shell.execute_reply": "2025-06-07T15:39:56.199050Z"
        },
        "collapsed": true,
        "jupyter": {
          "outputs_hidden": true
        },
        "id": "fsrB2gIoaqDb"
      },
      "outputs": [],
      "execution_count": null
    },
    {
      "cell_type": "markdown",
      "source": [
        "# clear the LLM dir to copy our model in"
      ],
      "metadata": {
        "id": "HGvhmXSQ0UqS"
      }
    },
    {
      "cell_type": "code",
      "source": [
        "# # Clear the LLM folder\n",
        "!rm -rf /content/Spark-TTS-finetune/pretrained_models/Spark-TTS-0.5B/LLM\n",
        "\n",
        "# Make sure the LLM folder exists (in case it got removed)\n",
        "!mkdir  /content/Spark-TTS-finetune/pretrained_models/Spark-TTS-0.5B/LLM\n",
        "# Copy files (adjust source path as needed)\n",
        "!cp /content/drive/MyDrive/spark_checkpoint/checkpoint-2000/* /content/Spark-TTS-finetune/pretrained_models/Spark-TTS-0.5B/LLM"
      ],
      "metadata": {
        "trusted": true,
        "execution": {
          "iopub.status.busy": "2025-06-07T17:31:48.998858Z",
          "iopub.execute_input": "2025-06-07T17:31:48.999668Z",
          "iopub.status.idle": "2025-06-07T17:32:20.356760Z",
          "shell.execute_reply.started": "2025-06-07T17:31:48.999636Z",
          "shell.execute_reply": "2025-06-07T17:32:20.355751Z"
        },
        "id": "He7KhaMyaqDd"
      },
      "outputs": [],
      "execution_count": null
    },
    {
      "cell_type": "code",
      "source": [
        "import sys\n",
        "import os\n",
        "\n",
        "# Add the Spark-TTS directory to Python path\n",
        "sys.path.insert(0, '/content/Spark-TTS')\n",
        "\n",
        "# Change to the Spark-TTS directory\n",
        "os.chdir('/content/Spark-TTS')\n",
        "\n",
        "# Now run the command\n",
        "!python -m cli.inference --text \"ٱلْـحَمْدُ لِلّٰهِ رَبِّ ٱلْعَالَمِينَ\" --device 0 --save_dir \"/content/\" --model_dir \"/content/Spark-TTS-finetune/pretrained_models/Spark-TTS-0.5B\" --gender male --pitch moderate --speed moderate"
      ],
      "metadata": {
        "trusted": true,
        "execution": {
          "iopub.status.busy": "2025-06-07T20:45:15.253729Z",
          "iopub.execute_input": "2025-06-07T20:45:15.254296Z",
          "iopub.status.idle": "2025-06-07T20:45:32.285727Z",
          "shell.execute_reply.started": "2025-06-07T20:45:15.254270Z",
          "shell.execute_reply": "2025-06-07T20:45:32.285011Z"
        },
        "collapsed": true,
        "jupyter": {
          "outputs_hidden": true
        },
        "id": "Hmp8QFrYaqDd"
      },
      "outputs": [],
      "execution_count": null
    },
    {
      "cell_type": "markdown",
      "source": [
        "# if you have problem with antlr4 OR flash-attn libs make this"
      ],
      "metadata": {
        "id": "p0yq5aQL0ncR"
      }
    },
    {
      "cell_type": "code",
      "source": [
        "!pip install omegaconf antlr4-python3-runtime"
      ],
      "metadata": {
        "id": "LHwrkpZQq6T5"
      },
      "execution_count": null,
      "outputs": []
    },
    {
      "cell_type": "code",
      "source": [
        "# Try installing a compatible version of flash attention\n",
        "!pip uninstall flash-attn -y\n",
        "!pip install flash-attn==2.5.8 --no-build-isolation"
      ],
      "metadata": {
        "id": "lpvx-QIKtfj_"
      },
      "execution_count": null,
      "outputs": []
    }
  ]
}